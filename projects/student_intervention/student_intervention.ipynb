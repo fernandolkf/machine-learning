{
 "cells": [
  {
   "cell_type": "markdown",
   "metadata": {},
   "source": [
    "# Machine Learning Engineer Nanodegree\n",
    "## Supervised Learning\n",
    "## Project: Building a Student Intervention System"
   ]
  },
  {
   "cell_type": "markdown",
   "metadata": {},
   "source": [
    "Welcome to the second project of the Machine Learning Engineer Nanodegree! In this notebook, some template code has already been provided for you, and it will be your job to implement the additional functionality necessary to successfully complete this project. Sections that begin with **'Implementation'** in the header indicate that the following block of code will require additional functionality which you must provide. Instructions will be provided for each section and the specifics of the implementation are marked in the code block with a `'TODO'` statement. Please be sure to read the instructions carefully!\n",
    "\n",
    "In addition to implementing code, there will be questions that you must answer which relate to the project and your implementation. Each section where you will answer a question is preceded by a **'Question X'** header. Carefully read each question and provide thorough answers in the following text boxes that begin with **'Answer:'**. Your project submission will be evaluated based on your answers to each of the questions and the implementation you provide.  \n",
    "\n",
    ">**Note:** Code and Markdown cells can be executed using the **Shift + Enter** keyboard shortcut. In addition, Markdown cells can be edited by typically double-clicking the cell to enter edit mode."
   ]
  },
  {
   "cell_type": "markdown",
   "metadata": {},
   "source": [
    "- `school` : student's school (binary: \"GP\" or \"MS\")\n",
    "- `sex` : student's sex (binary: \"F\" - female or \"M\" - male)\n",
    "- `age` : student's age (numeric: from 15 to 22)\n",
    "- `address` : student's home address type (binary: \"U\" - urban or \"R\" - rural)\n",
    "- `famsize` : family size (binary: \"LE3\" - less or equal to 3 or \"GT3\" - greater than 3)\n",
    "- `Pstatus` : parent's cohabitation status (binary: \"T\" - living together or \"A\" - apart)\n",
    "- `Medu` : mother's education (numeric: 0 - none,  1 - primary education (4th grade), 2 - 5th to 9th grade, 3 - secondary education or 4 - higher education)\n",
    "- `Fedu` : father's education (numeric: 0 - none,  1 - primary education (4th grade), 2 - 5th to 9th grade, 3 - secondary education or 4 - higher education)\n",
    "- `Mjob` : mother's job (nominal: \"teacher\", \"health\" care related, civil \"services\" (e.g. administrative or police), \"at_home\" or \"other\")\n",
    "- `Fjob` : father's job (nominal: \"teacher\", \"health\" care related, civil \"services\" (e.g. administrative or police), \"at_home\" or \"other\")\n",
    "- `reason` : reason to choose this school (nominal: close to \"home\", school \"reputation\", \"course\" preference or \"other\")\n",
    "- `guardian` : student's guardian (nominal: \"mother\", \"father\" or \"other\")\n",
    "- `traveltime` : home to school travel time (numeric: 1 - <15 min., 2 - 15 to 30 min., 3 - 30 min. to 1 hour, or 4 - >1 hour)\n",
    "- `studytime` : weekly study time (numeric: 1 - <2 hours, 2 - 2 to 5 hours, 3 - 5 to 10 hours, or 4 - >10 hours)\n",
    "- `failures` : number of past class failures (numeric: n if 1<=n<3, else 4)\n",
    "- `schoolsup` : extra educational support (binary: yes or no)\n",
    "- `famsup` : family educational support (binary: yes or no)\n",
    "- `paid` : extra paid classes within the course subject (Math or Portuguese) (binary: yes or no)\n",
    "- `activities` : extra-curricular activities (binary: yes or no)\n",
    "- `nursery` : attended nursery school (binary: yes or no)\n",
    "- `higher` : wants to take higher education (binary: yes or no)\n",
    "- `internet` : Internet access at home (binary: yes or no)\n",
    "- `romantic` : with a romantic relationship (binary: yes or no)\n",
    "- `famrel` : quality of family relationships (numeric: from 1 - very bad to 5 - excellent)\n",
    "- `freetime` : free time after school (numeric: from 1 - very low to 5 - very high)\n",
    "- `goout` : going out with friends (numeric: from 1 - very low to 5 - very high)\n",
    "- `Dalc` : workday alcohol consumption (numeric: from 1 - very low to 5 - very high)\n",
    "- `Walc` : weekend alcohol consumption (numeric: from 1 - very low to 5 - very high)\n",
    "- `health` : current health status (numeric: from 1 - very bad to 5 - very good)\n",
    "- `absences` : number of school absences (numeric: from 0 to 93)\n",
    "- `passed` : did the student pass the final exam (binary: yes or no)"
   ]
  },
  {
   "cell_type": "markdown",
   "metadata": {},
   "source": [
    "### Question 1 - Classification vs. Regression\n",
    "*Your goal for this project is to identify students who might need early intervention before they fail to graduate. Which type of supervised learning problem is this, classification or regression? Why?*"
   ]
  },
  {
   "cell_type": "markdown",
   "metadata": {},
   "source": [
    "**Answer: **\n",
    "\n",
    "Existem maneiras diferentes de abordar esse problema. Seria possível, a partir das informações fornecidas, identificar qual a nota prevista para um aluno, interpretando o problema como um problema de regressão. Entretanto, como a formulação pede para identificar o estado final do aluno (aprovado ou reprovado) e os dados fornecidos oferecem um label com o resultado final do aluno em um valor binário de verdadeiro ou falso ('passed'), se trata de um problema de classificação."
   ]
  },
  {
   "cell_type": "markdown",
   "metadata": {},
   "source": [
    "## Exploring the Data\n",
    "Run the code cell below to load necessary Python libraries and load the student data. Note that the last column from this dataset, `'passed'`, will be our target label (whether the student graduated or didn't graduate). All other columns are features about each student."
   ]
  },
  {
   "cell_type": "code",
   "execution_count": 1,
   "metadata": {},
   "outputs": [
    {
     "name": "stdout",
     "output_type": "stream",
     "text": [
      "Student data read successfully!\n"
     ]
    }
   ],
   "source": [
    "# Import libraries\n",
    "import numpy as np\n",
    "import pandas as pd\n",
    "from time import time\n",
    "from sklearn.metrics import f1_score\n",
    "\n",
    "\n",
    "# Read student data\n",
    "student_data = pd.read_csv(\"student-data.csv\")\n",
    "print \"Student data read successfully!\""
   ]
  },
  {
   "cell_type": "markdown",
   "metadata": {},
   "source": [
    "### Implementation: Data Exploration\n",
    "Let's begin by investigating the dataset to determine how many students we have information on, and learn about the graduation rate among these students. In the code cell below, you will need to compute the following:\n",
    "- The total number of students, `n_students`.\n",
    "- The total number of features for each student, `n_features`.\n",
    "- The number of those students who passed, `n_passed`.\n",
    "- The number of those students who failed, `n_failed`.\n",
    "- The graduation rate of the class, `grad_rate`, in percent (%).\n"
   ]
  },
  {
   "cell_type": "code",
   "execution_count": 2,
   "metadata": {},
   "outputs": [
    {
     "data": {
      "text/plain": [
       "395"
      ]
     },
     "execution_count": 2,
     "metadata": {},
     "output_type": "execute_result"
    }
   ],
   "source": [
    "student_data.shape[0]"
   ]
  },
  {
   "cell_type": "code",
   "execution_count": 3,
   "metadata": {},
   "outputs": [
    {
     "name": "stdout",
     "output_type": "stream",
     "text": [
      "Total number of students: 395\n",
      "Number of features: 31\n",
      "Number of students who passed: 265\n",
      "Number of students who failed: 130\n",
      "Graduation rate of the class: 0.67%\n"
     ]
    }
   ],
   "source": [
    "# TODO: Calculate number of students\n",
    "n_students = student_data.shape[0]\n",
    "\n",
    "# TODO: Calculate number of features\n",
    "n_features = student_data.shape[1]\n",
    "\n",
    "# TODO: Calculate passing students\n",
    "n_passed = student_data[student_data['passed']=='yes'].shape[0]\n",
    "\n",
    "# TODO: Calculate failing students\n",
    "n_failed = n_students-n_passed\n",
    "\n",
    "# TODO: Calculate graduation rate\n",
    "grad_rate = float(n_passed)/n_students\n",
    "\n",
    "# Print the results\n",
    "print \"Total number of students: {}\".format(n_students)\n",
    "print \"Number of features: {}\".format(n_features)\n",
    "print \"Number of students who passed: {}\".format(n_passed)\n",
    "print \"Number of students who failed: {}\".format(n_failed)\n",
    "print \"Graduation rate of the class: {:.2f}%\".format(grad_rate)"
   ]
  },
  {
   "cell_type": "markdown",
   "metadata": {},
   "source": [
    "## Preparing the Data\n",
    "In this section, we will prepare the data for modeling, training and testing.\n",
    "\n",
    "### Identify feature and target columns\n",
    "It is often the case that the data you obtain contains non-numeric features. This can be a problem, as most machine learning algorithms expect numeric data to perform computations with.\n",
    "\n",
    "Run the code cell below to separate the student data into feature and target columns to see if any features are non-numeric."
   ]
  },
  {
   "cell_type": "code",
   "execution_count": 4,
   "metadata": {},
   "outputs": [
    {
     "name": "stdout",
     "output_type": "stream",
     "text": [
      "Feature columns:\n",
      "['school', 'sex', 'age', 'address', 'famsize', 'Pstatus', 'Medu', 'Fedu', 'Mjob', 'Fjob', 'reason', 'guardian', 'traveltime', 'studytime', 'failures', 'schoolsup', 'famsup', 'paid', 'activities', 'nursery', 'higher', 'internet', 'romantic', 'famrel', 'freetime', 'goout', 'Dalc', 'Walc', 'health', 'absences']\n",
      "\n",
      "Target column: passed\n",
      "\n",
      "Feature values:\n",
      "  school sex  age address famsize Pstatus  Medu  Fedu     Mjob      Fjob  \\\n",
      "0     GP   F   18       U     GT3       A     4     4  at_home   teacher   \n",
      "1     GP   F   17       U     GT3       T     1     1  at_home     other   \n",
      "2     GP   F   15       U     LE3       T     1     1  at_home     other   \n",
      "3     GP   F   15       U     GT3       T     4     2   health  services   \n",
      "4     GP   F   16       U     GT3       T     3     3    other     other   \n",
      "\n",
      "    ...    higher internet  romantic  famrel  freetime goout Dalc Walc health  \\\n",
      "0   ...       yes       no        no       4         3     4    1    1      3   \n",
      "1   ...       yes      yes        no       5         3     3    1    1      3   \n",
      "2   ...       yes      yes        no       4         3     2    2    3      3   \n",
      "3   ...       yes      yes       yes       3         2     2    1    1      5   \n",
      "4   ...       yes       no        no       4         3     2    1    2      5   \n",
      "\n",
      "  absences  \n",
      "0        6  \n",
      "1        4  \n",
      "2       10  \n",
      "3        2  \n",
      "4        4  \n",
      "\n",
      "[5 rows x 30 columns]\n"
     ]
    }
   ],
   "source": [
    "# Extract feature columns\n",
    "feature_cols = list(student_data.columns[:-1])\n",
    "\n",
    "# Extract target column 'passed'\n",
    "target_col = student_data.columns[-1] \n",
    "\n",
    "# Show the list of columns\n",
    "print \"Feature columns:\\n{}\".format(feature_cols)\n",
    "print \"\\nTarget column: {}\".format(target_col)\n",
    "\n",
    "# Separate the data into feature data and target data (X_all and y_all, respectively)\n",
    "X_all = student_data[feature_cols]\n",
    "y_all = student_data[target_col]\n",
    "\n",
    "# Show the feature information by printing the first five rows\n",
    "print \"\\nFeature values:\"\n",
    "print X_all.head()"
   ]
  },
  {
   "cell_type": "markdown",
   "metadata": {},
   "source": [
    "### Preprocess Feature Columns\n",
    "\n",
    "As you can see, there are several non-numeric columns that need to be converted! Many of them are simply `yes`/`no`, e.g. `internet`. These can be reasonably converted into `1`/`0` (binary) values.\n",
    "\n",
    "Other columns, like `Mjob` and `Fjob`, have more than two values, and are known as _categorical variables_. The recommended way to handle such a column is to create as many columns as possible values (e.g. `Fjob_teacher`, `Fjob_other`, `Fjob_services`, etc.), and assign a `1` to one of them and `0` to all others.\n",
    "\n",
    "These generated columns are sometimes called _dummy variables_, and we will use the [`pandas.get_dummies()`](http://pandas.pydata.org/pandas-docs/stable/generated/pandas.get_dummies.html?highlight=get_dummies#pandas.get_dummies) function to perform this transformation. Run the code cell below to perform the preprocessing routine discussed in this section."
   ]
  },
  {
   "cell_type": "code",
   "execution_count": 5,
   "metadata": {},
   "outputs": [
    {
     "name": "stdout",
     "output_type": "stream",
     "text": [
      "Processed feature columns (48 total features):\n",
      "['school_GP', 'school_MS', 'sex_F', 'sex_M', 'age', 'address_R', 'address_U', 'famsize_GT3', 'famsize_LE3', 'Pstatus_A', 'Pstatus_T', 'Medu', 'Fedu', 'Mjob_at_home', 'Mjob_health', 'Mjob_other', 'Mjob_services', 'Mjob_teacher', 'Fjob_at_home', 'Fjob_health', 'Fjob_other', 'Fjob_services', 'Fjob_teacher', 'reason_course', 'reason_home', 'reason_other', 'reason_reputation', 'guardian_father', 'guardian_mother', 'guardian_other', 'traveltime', 'studytime', 'failures', 'schoolsup', 'famsup', 'paid', 'activities', 'nursery', 'higher', 'internet', 'romantic', 'famrel', 'freetime', 'goout', 'Dalc', 'Walc', 'health', 'absences']\n"
     ]
    }
   ],
   "source": [
    "def preprocess_features(X):\n",
    "    ''' Preprocesses the student data and converts non-numeric binary variables into\n",
    "        binary (0/1) variables. Converts categorical variables into dummy variables. '''\n",
    "    \n",
    "    # Initialize new output DataFrame\n",
    "    output = pd.DataFrame(index = X.index)\n",
    "\n",
    "    # Investigate each feature column for the data\n",
    "    for col, col_data in X.iteritems():\n",
    "        \n",
    "        # If data type is non-numeric, replace all yes/no values with 1/0\n",
    "        if col_data.dtype == object:\n",
    "            col_data = col_data.replace(['yes', 'no'], [1, 0])\n",
    "\n",
    "        # If data type is categorical, convert to dummy variables\n",
    "        if col_data.dtype == object:\n",
    "            # Example: 'school' => 'school_GP' and 'school_MS'\n",
    "            col_data = pd.get_dummies(col_data, prefix = col)  \n",
    "        \n",
    "        # Collect the revised columns\n",
    "        output = output.join(col_data)\n",
    "    \n",
    "    return output\n",
    "\n",
    "X_all = preprocess_features(X_all)\n",
    "print \"Processed feature columns ({} total features):\\n{}\".format(len(X_all.columns), list(X_all.columns))"
   ]
  },
  {
   "cell_type": "markdown",
   "metadata": {},
   "source": [
    "### Implementation: Training and Testing Data Split\n",
    "So far, we have converted all _categorical_ features into numeric values. For the next step, we split the data (both features and corresponding labels) into training and test sets. In the following code cell below, you will need to implement the following:\n",
    "- Randomly shuffle and split the data (`X_all`, `y_all`) into training and testing subsets.\n",
    "  - Use 300 training points (approximately 75%) and 95 testing points (approximately 25%).\n",
    "  - Set a `random_state` for the function(s) you use, if provided.\n",
    "  - Store the results in `X_train`, `X_test`, `y_train`, and `y_test`."
   ]
  },
  {
   "cell_type": "code",
   "execution_count": 6,
   "metadata": {},
   "outputs": [
    {
     "name": "stdout",
     "output_type": "stream",
     "text": [
      "Training set has 300 samples.\n",
      "Testing set has 95 samples.\n"
     ]
    }
   ],
   "source": [
    "# TODO: Import any additional functionality you may need here\n",
    "from sklearn.model_selection import train_test_split\n",
    "\n",
    "# TODO: Set the number of training points\n",
    "num_train = 300\n",
    "\n",
    "# Set the number of testing points\n",
    "num_test = X_all.shape[0] - num_train\n",
    "\n",
    "# TODO: Shuffle and split the dataset into the number of training and testing points above\n",
    "\n",
    "X_train,X_test,y_train,y_test = train_test_split(X_all,y_all,train_size = num_train, test_size = num_test, random_state = 0)\n",
    "\n",
    "# Show the results of the split\n",
    "print \"Training set has {} samples.\".format(X_train.shape[0])\n",
    "print \"Testing set has {} samples.\".format(X_test.shape[0])"
   ]
  },
  {
   "cell_type": "markdown",
   "metadata": {},
   "source": [
    "## Training and Evaluating Models\n",
    "In this section, you will choose 3 supervised learning models that are appropriate for this problem and available in `scikit-learn`. You will first discuss the reasoning behind choosing these three models by considering what you know about the data and each model's strengths and weaknesses. You will then fit the model to varying sizes of training data (100 data points, 200 data points, and 300 data points) and measure the F<sub>1</sub> score. You will need to produce three tables (one for each model) that shows the training set size, training time, prediction time, F<sub>1</sub> score on the training set, and F<sub>1</sub> score on the testing set.\n",
    "\n",
    "**The following supervised learning models are currently available in** [`scikit-learn`](http://scikit-learn.org/stable/supervised_learning.html) **that you may choose from:**\n",
    "- Gaussian Naive Bayes (GaussianNB)\n",
    "- Decision Trees\n",
    "- Ensemble Methods (Bagging, AdaBoost, Random Forest, Gradient Boosting)\n",
    "- K-Nearest Neighbors (KNeighbors)\n",
    "- Stochastic Gradient Descent (SGDC)\n",
    "- Support Vector Machines (SVM)\n",
    "- Logistic Regression"
   ]
  },
  {
   "cell_type": "markdown",
   "metadata": {},
   "source": [
    "### Question 2 - Model Application\n",
    "*List three supervised learning models that are appropriate for this problem. For each model chosen*\n",
    "- Describe one real-world application in industry where the model can be applied. *(You may need to do a small bit of research for this — give references!)* \n",
    "- What are the strengths of the model; when does it perform well? \n",
    "- What are the weaknesses of the model; when does it perform poorly?\n",
    "- What makes this model a good candidate for the problem, given what you know about the data?"
   ]
  },
  {
   "cell_type": "markdown",
   "metadata": {},
   "source": [
    "**Answer: **\n",
    "\n",
    "<b>Decision Trees</b>:\n",
    "\n",
    "Decision Tree é um tipo de algoritmo de aprendizado de máquina que traduz um conjunto de dados em uma estrutura de árvore hieráquica \n",
    "\n",
    "https://medium.com/towards-data-science/decision-trees-in-machine-learning-641b9c4e8052\n",
    "\n",
    "http://www.funderstanding.com/blog/real-life-application-decision-trees/\n",
    "\n",
    "http://what-when-how.com/artificial-intelligence/decision-tree-applications-for-data-modelling-artificial-intelligence/ (legal)\n",
    "\n",
    "\n",
    "<b>Logistic Regression</b>:\n",
    "\n",
    "https://www.quora.com/What-are-applications-of-linear-and-logistic-regression\n",
    "\n",
    "http://ucanalytics.com/blogs/case-study-example-banking-logistic-regression-3/\n",
    "\n",
    "http://arc.hhs.se/download.aspx?MediumId=680\n",
    "\n",
    "http://analyticstraining.com/2014/popular-applications-of-linear-regression-for-businesses/\n",
    "\n",
    "\n",
    "<b>K-NN</b>:\n",
    "\n",
    "https://www.quora.com/What-are-industry-applications-of-the-K-nearest-neighbor-algorithm\n",
    "\n",
    "https://www.ibm.com/support/knowledgecenter/en/SS6NHC/com.ibm.swg.im.dashdb.analytics.doc/doc/r_knn_usage.html\n",
    "\n",
    "http://www.dummies.com/programming/big-data/data-science/solving-real-world-problems-with-nearest-neighbor-algorithms/\n",
    "\n",
    "https://www.ncbi.nlm.nih.gov/pmc/articles/PMC2243774/"
   ]
  },
  {
   "cell_type": "markdown",
   "metadata": {},
   "source": [
    "### Setup\n",
    "Run the code cell below to initialize three helper functions which you can use for training and testing the three supervised learning models you've chosen above. The functions are as follows:\n",
    "- `train_classifier` - takes as input a classifier and training data and fits the classifier to the data.\n",
    "- `predict_labels` - takes as input a fit classifier, features, and a target labeling and makes predictions using the F<sub>1</sub> score.\n",
    "- `train_predict` - takes as input a classifier, and the training and testing data, and performs `train_clasifier` and `predict_labels`.\n",
    " - This function will report the F<sub>1</sub> score for both the training and testing data separately."
   ]
  },
  {
   "cell_type": "code",
   "execution_count": 7,
   "metadata": {
    "collapsed": true
   },
   "outputs": [],
   "source": [
    "def train_classifier(clf, X_train, y_train):\n",
    "    ''' Fits a classifier to the training data. '''\n",
    "    \n",
    "    # Start the clock, train the classifier, then stop the clock\n",
    "    start = time()\n",
    "    clf.fit(X_train, y_train)\n",
    "    end = time()\n",
    "    \n",
    "    # Print the results\n",
    "    print \"Trained model in {:.4f} seconds\".format(end - start)\n",
    "\n",
    "    \n",
    "def predict_labels(clf, features, target):\n",
    "    ''' Makes predictions using a fit classifier based on F1 score. '''\n",
    "    \n",
    "    # Start the clock, make predictions, then stop the clock\n",
    "    start = time()\n",
    "    y_pred = clf.predict(features)\n",
    "    end = time()\n",
    "    \n",
    "    # Print and return results\n",
    "    print \"Made predictions in {:.4f} seconds.\".format(end - start)\n",
    "    return f1_score(target.values, y_pred, pos_label='yes')\n",
    "\n",
    "\n",
    "def train_predict(clf, X_train, y_train, X_test, y_test):\n",
    "    ''' Train and predict using a classifer based on F1 score. '''\n",
    "    \n",
    "    # Indicate the classifier and the training set size\n",
    "    print \"Training a {} using a training set size of {}. . .\".format(clf.__class__.__name__, len(X_train))\n",
    "    \n",
    "    # Train the classifier\n",
    "    train_classifier(clf, X_train, y_train)\n",
    "    \n",
    "    # Print the results of prediction for both training and testing\n",
    "    print \"F1 score for training set: {:.4f}.\".format(predict_labels(clf, X_train, y_train))\n",
    "    print \"F1 score for test set: {:.4f}.\".format(predict_labels(clf, X_test, y_test))"
   ]
  },
  {
   "cell_type": "markdown",
   "metadata": {},
   "source": [
    "### Implementation: Model Performance Metrics\n",
    "With the predefined functions above, you will now import the three supervised learning models of your choice and run the `train_predict` function for each one. Remember that you will need to train and predict on each classifier for three different training set sizes: 100, 200, and 300. Hence, you should expect to have 9 different outputs below — 3 for each model using the varying training set sizes. In the following code cell, you will need to implement the following:\n",
    "- Import the three supervised learning models you've discussed in the previous section.\n",
    "- Initialize the three models and store them in `clf_A`, `clf_B`, and `clf_C`.\n",
    " - Use a `random_state` for each model you use, if provided.\n",
    " - **Note:** Use the default settings for each model — you will tune one specific model in a later section.\n",
    "- Create the different training set sizes to be used to train each model.\n",
    " - *Do not reshuffle and resplit the data! The new training points should be drawn from `X_train` and `y_train`.*\n",
    "- Fit each model with each training set size and make predictions on the test set (9 in total).  \n",
    "**Note:** Three tables are provided after the following code cell which can be used to store your results."
   ]
  },
  {
   "cell_type": "code",
   "execution_count": 71,
   "metadata": {},
   "outputs": [
    {
     "name": "stdout",
     "output_type": "stream",
     "text": [
      " Model results: \n",
      " Training set: \n",
      "Training a DecisionTreeClassifier using a training set size of 100. . .\n",
      "Trained model in 0.0020 seconds\n",
      "Made predictions in 0.0010 seconds.\n",
      "F1 score for training set: 1.0000.\n",
      "Made predictions in 0.0000 seconds.\n",
      "F1 score for test set: 0.6942.\n",
      " \n",
      " Training set: \n",
      "Training a DecisionTreeClassifier using a training set size of 200. . .\n",
      "Trained model in 0.0030 seconds\n",
      "Made predictions in 0.0000 seconds.\n",
      "F1 score for training set: 1.0000.\n",
      "Made predictions in 0.0000 seconds.\n",
      "F1 score for test set: 0.7132.\n",
      " \n",
      " Training set: \n",
      "Training a DecisionTreeClassifier using a training set size of 300. . .\n",
      "Trained model in 0.0030 seconds\n",
      "Made predictions in 0.0010 seconds.\n",
      "F1 score for training set: 1.0000.\n",
      "Made predictions in 0.0000 seconds.\n",
      "F1 score for test set: 0.7167.\n",
      " \n",
      " \n",
      " Model results: \n",
      " Training set: \n",
      "Training a LogisticRegression using a training set size of 100. . .\n",
      "Trained model in 0.0020 seconds\n",
      "Made predictions in 0.0000 seconds.\n",
      "F1 score for training set: 0.8571.\n",
      "Made predictions in 0.0000 seconds.\n",
      "F1 score for test set: 0.7612.\n",
      " \n",
      " Training set: \n",
      "Training a LogisticRegression using a training set size of 200. . .\n",
      "Trained model in 0.0030 seconds\n",
      "Made predictions in 0.0010 seconds.\n",
      "F1 score for training set: 0.8380.\n",
      "Made predictions in 0.0010 seconds.\n",
      "F1 score for test set: 0.7794.\n",
      " \n",
      " Training set: \n",
      "Training a LogisticRegression using a training set size of 300. . .\n",
      "Trained model in 0.0060 seconds\n",
      "Made predictions in 0.0010 seconds.\n",
      "F1 score for training set: 0.8381.\n",
      "Made predictions in 0.0010 seconds.\n",
      "F1 score for test set: 0.7910.\n",
      " \n",
      " \n",
      " Model results: \n",
      " Training set: \n",
      "Training a KNeighborsClassifier using a training set size of 100. . .\n",
      "Trained model in 0.0010 seconds\n",
      "Made predictions in 0.0030 seconds.\n",
      "F1 score for training set: 0.7972.\n",
      "Made predictions in 0.0040 seconds.\n",
      "F1 score for test set: 0.7068.\n",
      " \n",
      " Training set: \n",
      "Training a KNeighborsClassifier using a training set size of 200. . .\n",
      "Trained model in 0.0020 seconds\n",
      "Made predictions in 0.0070 seconds.\n",
      "F1 score for training set: 0.8571.\n",
      "Made predictions in 0.0040 seconds.\n",
      "F1 score for test set: 0.7121.\n",
      " \n",
      " Training set: \n",
      "Training a KNeighborsClassifier using a training set size of 300. . .\n",
      "Trained model in 0.0030 seconds\n",
      "Made predictions in 0.0090 seconds.\n",
      "F1 score for training set: 0.8722.\n",
      "Made predictions in 0.0030 seconds.\n",
      "F1 score for test set: 0.7482.\n",
      " \n",
      " \n"
     ]
    }
   ],
   "source": [
    "# TODO: Import the three supervised learning models from sklearn\n",
    "# from sklearn import model_A\n",
    "# from sklearn import model_B\n",
    "# from sklearn import model_C\n",
    "from sklearn.tree import DecisionTreeClassifier\n",
    "from sklearn.neighbors import KNeighborsClassifier\n",
    "from sklearn.linear_model import LogisticRegression\n",
    "\n",
    "# TODO: Initialize the three models\n",
    "clf_A = DecisionTreeClassifier(random_state = 0) #SVC(random_state = 0) \n",
    "clf_B = LogisticRegression(random_state = 0) #GaussianNB()\n",
    "clf_C = KNeighborsClassifier()\n",
    "\n",
    "\n",
    "# TODO: Set up the training set sizes\n",
    "X_train_100 = X_train[:100]\n",
    "y_train_100 = y_train[:100]\n",
    "\n",
    "X_train_200 = X_train[:200]\n",
    "y_train_200 = y_train[:200]\n",
    "\n",
    "X_train_300 = X_train\n",
    "y_train_300 = y_train\n",
    "\n",
    "# TODO: Execute the 'train_predict' function for each classifier and each training set size\n",
    "# train_predict(clf, X_train, y_train, X_test, y_test)\n",
    "\n",
    "list_clf = [clf_A, clf_B, clf_C]\n",
    "list_train = [[X_train_100, y_train_100],[X_train_200, y_train_200],[X_train_300, y_train_300]]\n",
    "\n",
    "for clf in list_clf:\n",
    "    print \" Model results: \"\n",
    "    for train in list_train:\n",
    "        print \" Training set: \"\n",
    "        train_predict(clf, train[0], train[1], X_test, y_test)\n",
    "        print \" \"\n",
    "    print \" \""
   ]
  },
  {
   "cell_type": "markdown",
   "metadata": {},
   "source": [
    "### Tabular Results\n",
    "Edit the cell below to see how a table can be designed in [Markdown](https://github.com/adam-p/markdown-here/wiki/Markdown-Cheatsheet#tables). You can record your results from above in the tables provided."
   ]
  },
  {
   "cell_type": "markdown",
   "metadata": {},
   "source": [
    "** Classifer 1 - Decision Tree\n",
    "\n",
    "| Training Set Size | Training Time | Prediction Time (test) | F1 Score (train) | F1 Score (test) |\n",
    "| :---------------: | :---------------------: | :--------------------: | :--------------: | :-------------: |\n",
    "| 100               |        0.0020           |       0.0000           |        1.0       |      0.6942     |\n",
    "| 200               |        0.0030           |       0.0000           |        1.0       |      0.7132     |\n",
    "| 300               |        0.0030           |       0.0000           |        1.0       |      0.7167     |\n",
    "** Classifer 2 - Logistic Regression\n",
    "\n",
    "| Training Set Size | Training Time | Prediction Time (test) | F1 Score (train) | F1 Score (test) |\n",
    "| :---------------: | :---------------------: | :--------------------: | :--------------: | :-------------: |\n",
    "| 100               |         0.0020          |          0.0000        |      0.8571      |     0.7612      |\n",
    "| 200               |         0.0030          |          0.0010        |      0.8380      |     0.7794      |\n",
    "| 300               |         0.0060          |          0.0010        |      0.8381      |     0.7910      |\n",
    "\n",
    "** Classifer 3 - K-NN\n",
    "\n",
    "| Training Set Size | Training Time | Prediction Time (test) | F1 Score (train) | F1 Score (test) |\n",
    "| :---------------: | :---------------------: | :--------------------: | :--------------: | :-------------: |\n",
    "| 100               |       0.0010            |        0.0040          |     0.7972       |      0.7068     |\n",
    "| 200               |       0.0020            |        0.0040          |     0.8571       |      0.7121     |\n",
    "| 300               |       0.0030            |        0.0030          |     0.8722       |      0.7482     |"
   ]
  },
  {
   "cell_type": "markdown",
   "metadata": {},
   "source": [
    "## Choosing the Best Model\n",
    "In this final section, you will choose from the three supervised learning models the *best* model to use on the student data. You will then perform a grid search optimization for the model over the entire training set (`X_train` and `y_train`) by tuning at least one parameter to improve upon the untuned model's F<sub>1</sub> score. "
   ]
  },
  {
   "cell_type": "markdown",
   "metadata": {},
   "source": [
    "### Question 3 - Choosing the Best Model\n",
    "*Based on the experiments you performed earlier, in one to two paragraphs, explain to the board of supervisors what single model you chose as the best model. Which model is generally the most appropriate based on the available data, limited resources, cost, and performance?*"
   ]
  },
  {
   "cell_type": "markdown",
   "metadata": {},
   "source": [
    "**Answer: **\n",
    "\n",
    "Cada modelo teve suas vantagens e desvantagens. O modelo <b>Decision Tree</b> teve o melhor tempo de resposta de todos e melhor resultado com os dados de treino, entretanto ele sofreu de sobreajuste, uma vez que os resultados de teste foram os piores dentre os três modelos. Logo ele será descartado. O modelo <b>K-NN</b> teve um tempo de treino curto e bons resultados com os dados de treino, porém ele teve o maior tempo de predição e não obteve os melhores resultados nos dados de teste.\n",
    "\n",
    "O modelo escolhido será o <b>Logistic Regression</b>. Esse modelo teve o melhor resultado nos dados de teste, enquanto ainda teve um bom resultado nos dados de treino, demonstrando que ele soube generalizar melhor o problema que os outros. Além disso, apesar de ter um tempo de treino maior, ele tem um tempo de resposta bem rápido, sendo apenas necessário treinar o modelo quando tiver novos dados. Como só será ter possível ter novos dados sobre a situação do aluno no final de um semestre, o modelo só irá precisar ser treinado uma vez por semestre."
   ]
  },
  {
   "cell_type": "markdown",
   "metadata": {},
   "source": [
    "### Question 4 - Model in Layman's Terms\n",
    "*In one to two paragraphs, explain to the board of directors in layman's terms how the final model chosen is supposed to work. Be sure that you are describing the major qualities of the model, such as how the model is trained and how the model makes a prediction. Avoid using advanced mathematical or technical jargon, such as describing equations or discussing the algorithm implementation.*"
   ]
  },
  {
   "cell_type": "markdown",
   "metadata": {},
   "source": [
    "**Answer: **\n",
    "\n",
    "O modelo final será baseado"
   ]
  },
  {
   "cell_type": "markdown",
   "metadata": {},
   "source": [
    "### Implementation: Model Tuning\n",
    "Fine tune the chosen model. Use grid search (`GridSearchCV`) with at least one important parameter tuned with at least 3 different values. You will need to use the entire training set for this. In the code cell below, you will need to implement the following:\n",
    "- Import [`sklearn.grid_search.GridSearchCV`](http://scikit-learn.org/0.17/modules/generated/sklearn.grid_search.GridSearchCV.html) and [`sklearn.metrics.make_scorer`](http://scikit-learn.org/stable/modules/generated/sklearn.metrics.make_scorer.html).\n",
    "- Create a dictionary of parameters you wish to tune for the chosen model.\n",
    " - Example: `parameters = {'parameter' : [list of values]}`.\n",
    "- Initialize the classifier you've chosen and store it in `clf`.\n",
    "- Create the F<sub>1</sub> scoring function using `make_scorer` and store it in `f1_scorer`.\n",
    " - Set the `pos_label` parameter to the correct value!\n",
    "- Perform grid search on the classifier `clf` using `f1_scorer` as the scoring method, and store it in `grid_obj`.\n",
    "- Fit the grid search object to the training data (`X_train`, `y_train`), and store it in `grid_obj`."
   ]
  },
  {
   "cell_type": "code",
   "execution_count": 60,
   "metadata": {},
   "outputs": [
    {
     "name": "stdout",
     "output_type": "stream",
     "text": [
      "LogisticRegression(C=0.01, class_weight=None, dual=False, fit_intercept=True,\n",
      "          intercept_scaling=1, max_iter=10000, multi_class='ovr', n_jobs=1,\n",
      "          penalty='l2', random_state=0, solver='sag', tol=0.0001,\n",
      "          verbose=0, warm_start=False)\n",
      "Made predictions in 0.0010 seconds.\n",
      "Tuned model has a training F1 score of 0.8228.\n",
      "Made predictions in 0.0000 seconds.\n",
      "Tuned model has a testing F1 score of 0.7755.\n"
     ]
    }
   ],
   "source": [
    "# TODO: Import 'GridSearchCV' and 'make_scorer'\n",
    "from sklearn.grid_search import GridSearchCV\n",
    "from sklearn.metrics import make_scorer, f1_score\n",
    "\n",
    "#cv_sets = ShuffleSplit(X.shape[0], n_iter = 10, test_size = 0.20, random_state = 0)\n",
    "# TODO: Create the parameters list you wish to tune\n",
    "parameters = {'C': [0.001, 0.01, 0.1, 1, 10, 100],\n",
    "            'solver' : ['newton-cg', 'lbfgs', 'liblinear', 'sag'],\n",
    "             'tol' : [1e-2, 1e-4, 1e-6, 1e-8],\n",
    "             'max_iter' : [10, 100, 1000, 10000]}\n",
    "\n",
    "# TODO: Initialize the classifier\n",
    "clf = LogisticRegression(random_state = 0)\n",
    "\n",
    "# TODO: Make an f1 scoring function using 'make_scorer' \n",
    "f1_scorer = make_scorer(f1_score, pos_label=\"yes\")\n",
    "\n",
    "# TODO: Perform grid search on the classifier using the f1_scorer as the scoring method\n",
    "grid_obj = GridSearchCV(clf, parameters, f1_scorer, cv=5)\n",
    "\n",
    "y_train_0 = y_train.replace(['yes', 'no'], [1, 0])\n",
    "y_test_0 = y_test.replace(['yes', 'no'], [1, 0])\n",
    "\n",
    "# TODO: Fit the grid search object to the training data and find the optimal parameters\n",
    "grid_obj = grid_obj.fit(X_train, y_train)\n",
    "\n",
    "# Get the estimator\n",
    "clf = grid_obj.best_estimator_\n",
    "\n",
    "# Print the parameters of best estimator\n",
    "print clf\n",
    "\n",
    "# Report the final F1 score for training and testing after parameter tuning\n",
    "print \"Tuned model has a training F1 score of {:.4f}.\".format(predict_labels(clf, X_train, y_train))\n",
    "print \"Tuned model has a testing F1 score of {:.4f}.\".format(predict_labels(clf, X_test, y_test))"
   ]
  },
  {
   "cell_type": "code",
   "execution_count": 65,
   "metadata": {},
   "outputs": [
    {
     "name": "stdout",
     "output_type": "stream",
     "text": [
      "best parameters result: \n",
      "        C  max_iter     tol solver  F1-Score\n",
      "125  0.01     10000  0.0001    sag  0.820249\n",
      "worst parameters result: \n",
      "         C  max_iter       tol     solver  F1-Score\n",
      "378  100.0     10000  0.000001  liblinear  0.765972\n",
      "standart parameters result: \n",
      "       C  max_iter     tol     solver  F1-Score\n",
      "217  1.0       100  0.0001  liblinear  0.786473\n"
     ]
    }
   ],
   "source": [
    "import pandas as pd\n",
    "\n",
    "list_c = []\n",
    "list_max_iter = []\n",
    "list_tol = []\n",
    "list_solver = []\n",
    "list_scores = []\n",
    "for value in  grid_obj.grid_scores_:\n",
    "    param_dict = value[0]\n",
    "    list_c.append(param_dict['C'])\n",
    "    list_max_iter.append(param_dict['max_iter'])\n",
    "    list_tol.append(param_dict['tol'])\n",
    "    list_solver.append(param_dict['solver'])\n",
    "    list_scores.append(value[1])\n",
    "\n",
    "col = ['C', 'max_iter', 'tol', 'solver', 'F1-Score']\n",
    "    \n",
    "df = pd.DataFrame(columns = col)\n",
    "\n",
    "df['C'] = list_c\n",
    "df['max_iter'] = list_max_iter\n",
    "df['tol'] = list_tol\n",
    "df['solver'] = list_solver\n",
    "df['F1-Score'] = list_scores\n",
    "\n",
    "df['C'] = df['C'].astype('float')\n",
    "df['max_iter'] = df['max_iter'].astype('int')\n",
    "df['tol'] = df['tol'].astype('float')\n",
    "df['solver'] = df['solver'].astype('str')\n",
    "df['F1-Score'] = df['F1-Score'].astype('float')\n",
    "\n",
    "df.sort_values(['F1-Score'], ascending = False, inplace = True)\n",
    "\n",
    "# Print the results of the best set of parameters\n",
    "print 'best parameters result: '\n",
    "print df.loc[(df['C']==0.01) & (df['max_iter']==10000) & (df['tol']== 1.00e-04) & (df['solver']=='sag')]\n",
    "# Print the results of the worst set of parameters\n",
    "print 'worst parameters result: '\n",
    "print df.iloc[[329]]\n",
    "# Print the results of the standart parameters\n",
    "print 'standart parameters result: '\n",
    "print df.loc[(df['C']==1.0) & (df['max_iter']==100) & (df['tol']== 1.00e-04) & (df['solver']=='liblinear')]"
   ]
  },
  {
   "cell_type": "markdown",
   "metadata": {},
   "source": [
    "### Question 5 - Final F<sub>1</sub> Score\n",
    "*What is the final model's F<sub>1</sub> score for training and testing? How does that score compare to the untuned model?*"
   ]
  },
  {
   "cell_type": "markdown",
   "metadata": {},
   "source": [
    "**Answer: **\n",
    "\n",
    "O modelo final tem F<sub>1</sub> de <b>0.8228</b> para os dados de treino e <b>0.7755</b> para os dados de teste. Os valores iniciais de F<sub>1</sub> para os parâmetros padrões do algoritmo, como demonstrado na questão 3, são de <b>0.8381</b> e\t<b>0.7910</b> para os dados de treino e teste respectivamente. Em uma análise superficial, é possível acreditar que a técnica de <i>Grid Search</i> não fez um bom trabalho em encontrar os melhores parâmetros para o algoritmo, uma vez que a configuração padrão teve resultados melhores que os parâmetros escolhidos (embora em uma escala pequena para ser tão relevante). Entretanto, essa não é a verdade.\n",
    "\n",
    "A técnica de <i>Grid Search</i> faz o uso de <i>k-fold validation</i> para calcular o score de cada combinação de parâmetros do algoritmo. A <i>k-fold validation</i> permite testar o algoritmo de aprendizagem com <b>k</b> diferentes distribuições de pedaços dos dados e certificar que o algoritmo tem uma boa pontuação em todas as combinações dos pedaços, fazendo uma média do resultado do F<sub>1</sub> de cada combinação. No caso deste teste, o <i>Grid Search</i> aplicou o <i>k-fold validation</i> com k = 5, ou seja, separou os dados em 5 pedaços diferentes.\n",
    "\n",
    "Uma forma mais justa de comparar o resultado do algoritmo otimizado e do algoritmo padrão é verificar o F<sub>1</sub> gerado pelo <i>Grid Search</i> para os diferentes valores dos parâmetros. A tabela abaixo resume os valores dos parâmetros e do F<sub>1</sub> encontrados pelo <i>Grid Search</i> com o melhor conjunto de parâmetros, o pior conjunto e o conjunto padrão. \n",
    "\n",
    "<b>Resultado Final</b>\n",
    "\n",
    "| Rank | C | max_iter | tol | solver | F<sub>1</sub> |\n",
    "| :---------------: | :---------------------: | :--------------------: | :--------------: | :-------------: |\n",
    "| melhor | 0.01 | 10000   | 0.0001  | sag | 0.820249 |\n",
    "| pior   |  100 | 10000  | 0.000001 | liblinear | 0.765972  |\n",
    "| padrão | 1 | 100 | 0.0001 | liblinear |  0.786473 |\n",
    "\n",
    "A partir da tabela é possível verificar que, aplicando o <i>k-fold validation</i> com k = 5 nos parâmetros padrões do algoritmo, se obteve um F<sub>1</sub> médio de 0.78 nos dados de treino. Por outro lado, o algoritmo otimizado obteve um F<sub>1</sub> médio de 0.82. Logo, mesmo que para os dados iniciais o algoritmo padrão aparenta ter um desempenho melhor, na média o algoritmo otimizado será superior. Logo o modelo final encontrado pela técnica <i>Grid Search</i> é melhor que o algoritmo padrão. "
   ]
  },
  {
   "cell_type": "markdown",
   "metadata": {},
   "source": [
    "> **Note**: Once you have completed all of the code implementations and successfully answered each question above, you may finalize your work by exporting the iPython Notebook as an HTML document. You can do this by using the menu above and navigating to  \n",
    "**File -> Download as -> HTML (.html)**. Include the finished document along with this notebook as your submission."
   ]
  }
 ],
 "metadata": {
  "kernelspec": {
   "display_name": "Python 2",
   "language": "python",
   "name": "python2"
  },
  "language_info": {
   "codemirror_mode": {
    "name": "ipython",
    "version": 2
   },
   "file_extension": ".py",
   "mimetype": "text/x-python",
   "name": "python",
   "nbconvert_exporter": "python",
   "pygments_lexer": "ipython2",
   "version": "2.7.13"
  }
 },
 "nbformat": 4,
 "nbformat_minor": 1
}
